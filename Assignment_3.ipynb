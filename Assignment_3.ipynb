{
  "nbformat": 4,
  "nbformat_minor": 0,
  "metadata": {
    "colab": {
      "provenance": [],
      "authorship_tag": "ABX9TyPsHlG3MgbXXQQ4ask4S0Dg",
      "include_colab_link": true
    },
    "kernelspec": {
      "name": "python3",
      "display_name": "Python 3"
    },
    "language_info": {
      "name": "python"
    }
  },
  "cells": [
    {
      "cell_type": "markdown",
      "metadata": {
        "id": "view-in-github",
        "colab_type": "text"
      },
      "source": [
        "<a href=\"https://colab.research.google.com/github/Nick-Climaco/DATA-602-NC/blob/main/Assignment_3.ipynb\" target=\"_parent\"><img src=\"https://colab.research.google.com/assets/colab-badge.svg\" alt=\"Open In Colab\"/></a>"
      ]
    },
    {
      "cell_type": "markdown",
      "source": [
        "Question 1\n",
        "\n",
        "\n",
        "\n",
        "Write a program that prompts the user for a meal: breakfast, lunch, or dinner. Then using if statements and else statements print the user a message recommending a meal. For example, if the meal was breakfast, you could say something like, “How about some bacon and eggs?”\n",
        "The user may enter something else in, but you only have to respond to breakfast, lunch, or dinner.\n"
      ],
      "metadata": {
        "id": "JvwfRyVcDAx6"
      }
    },
    {
      "cell_type": "code",
      "execution_count": 13,
      "metadata": {
        "colab": {
          "base_uri": "https://localhost:8080/"
        },
        "id": "a27QLm9e_j6t",
        "outputId": "94f20a65-5c5a-49e2-b72d-2895cb4de143"
      },
      "outputs": [
        {
          "output_type": "stream",
          "name": "stdout",
          "text": [
            "Enter the type of meal: lunch\n",
            "Today's lunch menu is chicken wrap and tomato soup!\n"
          ]
        }
      ],
      "source": [
        "def choose_meal():\n",
        "    meals = ['breakfast', 'lunch', 'dinner']\n",
        "    meal = input(\"Enter the type of meal: \").lower()\n",
        "    if meal in meals:\n",
        "        if meal == \"breakfast\":\n",
        "            print(\"Today's breakfast, we have eggs and pancakes!\")\n",
        "        elif meal == \"lunch\":\n",
        "            print(\"Today's lunch menu is chicken wrap and tomato soup!\")\n",
        "        elif meal == \"dinner\":\n",
        "            print(\"Today's dinner is steak and lobster!\")\n",
        "    else:\n",
        "            print(meal, \"is not a valid choice. Choose breakfast, lunch or dinner\")\n",
        "            choose_meal()    \n",
        "\n",
        "choose_meal()"
      ]
    },
    {
      "cell_type": "markdown",
      "source": [
        "Question 2\n",
        "\n",
        "\n",
        "\n",
        "The mailroom has asked you to design a simple payroll program that calculates a student employee’s gross pay, including any overtime wages. If any employee works over 20 hours in a week, the mailroom pays them 1.5 times their regular hourly pay rate for all hours over 20. \n",
        "You should take in the user’s input for the number of hours worked, and their rate of pay.\n",
        "\n",
        "\n"
      ],
      "metadata": {
        "id": "CP-pkdcIDD98"
      }
    },
    {
      "cell_type": "code",
      "source": [
        "# student payroll system\n",
        "def payroll(hours, wage):\n",
        "    if hours <= 20:\n",
        "        pay = (hours * wage)\n",
        "        print(\"Pay is $\", str(float(pay)))\n",
        "    elif hours > 20:\n",
        "        pay = ((20 * wage) + (1.5* wage) * (hours - 20))\n",
        "        print(\"Pay is $\", str(float(pay)))\n",
        "\n",
        "payroll(20, 15)\n",
        "payroll(25, 15)"
      ],
      "metadata": {
        "colab": {
          "base_uri": "https://localhost:8080/"
        },
        "id": "jDCZWPFGC_w2",
        "outputId": "5447c707-b8b4-452d-da48-2182d2629bfc"
      },
      "execution_count": 23,
      "outputs": [
        {
          "output_type": "stream",
          "name": "stdout",
          "text": [
            "Pay is $ 300.0\n",
            "Pay is $ 412.5\n"
          ]
        }
      ]
    },
    {
      "cell_type": "markdown",
      "source": [
        "Question 3\n",
        "\n",
        "\n",
        "\n",
        "Write a function named times_ten. The function should accept an argument and display the product of its argument multiplied times 10"
      ],
      "metadata": {
        "id": "qhZihkgfE3aG"
      }
    },
    {
      "cell_type": "code",
      "source": [
        "def times_ten(number):\n",
        "    print(number * 10)\n",
        "\n",
        "times_ten(100)"
      ],
      "metadata": {
        "colab": {
          "base_uri": "https://localhost:8080/"
        },
        "id": "RJUge_GsE7Qw",
        "outputId": "b3f6c441-20dc-4a02-9310-93837c75f0b2"
      },
      "execution_count": 24,
      "outputs": [
        {
          "output_type": "stream",
          "name": "stdout",
          "text": [
            "1000\n"
          ]
        }
      ]
    },
    {
      "cell_type": "markdown",
      "source": [
        "Question 4\n",
        "\n",
        "\n",
        "Find the errors, debug the program, and then execute to show the output.\n",
        "\n",
        "\n",
        "def main()\n",
        "\n",
        "Calories1 = input( \"How many calories are in the first food?\")\n",
        "\n",
        "Calories2 = input( \"How many calories are in the first food?\")\n",
        "\n",
        "showCalories(calories1, calories2)\n",
        "\n",
        "def showCalories()   \n",
        "   print(“The total calories you ate today”, format(calories1 + calories2,.2f))\n"
      ],
      "metadata": {
        "id": "X7KyJv69F_rR"
      }
    },
    {
      "cell_type": "code",
      "source": [
        "def main():\n",
        "      calories1 = input( \"How many calories are in the first food?\")\n",
        "      calories2 = input( \"How many calories are in the first food?\")\n",
        "      showCalories(calories1, calories2)\n",
        "\n",
        "def showCalories(calories1, calories2):   \n",
        "   print(\"The total calories you ate today\", format(calories1 + calories2,\".2f\"))\n",
        "\n"
      ],
      "metadata": {
        "id": "RGGPbPdGFMXu"
      },
      "execution_count": 29,
      "outputs": []
    },
    {
      "cell_type": "markdown",
      "source": [
        "Question 5\n",
        "\n",
        "Write a program that uses any loop (while or for) that calculates the total of the following series of numbers:\n",
        "         1/30 + 2/29 + 3/28 ............. + 30/1\n"
      ],
      "metadata": {
        "id": "ECYgfsbbGRKn"
      }
    },
    {
      "cell_type": "code",
      "source": [
        "def thirty_over_one():\n",
        "    numerator = 30\n",
        "    denominator = 1\n",
        "    total = 0\n",
        "    while numerator > 0:\n",
        "        total += (numerator / denominator)\n",
        "        numerator -= 1\n",
        "        denominator += 1\n",
        "    print(total)\n",
        "\n",
        "thirty_over_one()"
      ],
      "metadata": {
        "colab": {
          "base_uri": "https://localhost:8080/"
        },
        "id": "tsgwMrioGUGN",
        "outputId": "1eb6657b-1077-474a-8d80-81557aeccbac"
      },
      "execution_count": 39,
      "outputs": [
        {
          "output_type": "stream",
          "name": "stdout",
          "text": [
            "93.84460105853212\n"
          ]
        }
      ]
    },
    {
      "cell_type": "markdown",
      "source": [
        "Question 6\n",
        "\n",
        "\n",
        "Write a function that computes the area of a triangle given its base and height.\n",
        "The formula for an area of a triangle is:\n",
        "AREA = 1/2 * BASE * HEIGHT\n"
      ],
      "metadata": {
        "id": "42xZ6-iqHdgc"
      }
    },
    {
      "cell_type": "code",
      "source": [
        "def triangle_area(base, height):\n",
        "    print((base * height) / 2)\n",
        "\n",
        "\n",
        "triangle_area(5,4)"
      ],
      "metadata": {
        "colab": {
          "base_uri": "https://localhost:8080/"
        },
        "id": "5u_PS33xHhPz",
        "outputId": "1f769b54-64c3-4467-8a52-4e285f1f28bb"
      },
      "execution_count": 40,
      "outputs": [
        {
          "output_type": "stream",
          "name": "stdout",
          "text": [
            "10.0\n"
          ]
        }
      ]
    }
  ]
}